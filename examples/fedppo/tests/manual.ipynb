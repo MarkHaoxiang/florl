{
 "cells": [
  {
   "cell_type": "markdown",
   "metadata": {},
   "source": [
    "This notebook contains tests and validations that are easier checked manually.\n",
    "\n",
    "TODO: Eventually, this should be replaced by fuzzy statistical tests.\n",
    "\n",
    "### Centralised training\n",
    "\n",
    "Verify client.train by running a centralised training loop."
   ]
  },
  {
   "cell_type": "code",
   "execution_count": null,
   "metadata": {},
   "outputs": [],
   "source": [
    "import matplotlib.pyplot as plt\n",
    "from omegaconf import OmegaConf\n",
    "from flwr.common import Context\n",
    "\n",
    "from fedppo.client_app import client_fn\n",
    "from fedppo.main import FedPPOConfig, CONFIG_DIR\n",
    "\n",
    "config = FedPPOConfig.from_raw(OmegaConf.load(CONFIG_DIR + \"/cartpole.yaml\"))\n",
    "\n",
    "client = client_fn(\n",
    "    context=Context(0, 0, {}, {}, {}),\n",
    "    task_cfg=config.task,\n",
    "    client_cfg=config.client,\n",
    ").client\n",
    "\n",
    "metrics = client.train(parameters=client.loss.state_dict(), config={})[2]\n",
    "\n",
    "num_metrics = len(metrics)\n",
    "num_cols = 3\n",
    "num_rows = (num_metrics + num_cols - 1) // num_cols\n",
    "\n",
    "fig, axes = plt.subplots(num_rows, num_cols, figsize=(15, num_rows * 5))\n",
    "axes = axes.flatten()\n",
    "\n",
    "for idx, (key, values) in enumerate(metrics.items()):\n",
    "    axes[idx].plot(values)\n",
    "    axes[idx].set_title(key)\n",
    "    axes[idx].set_xlabel(\"Iterations\")\n",
    "    axes[idx].set_ylabel(key.split(\"/\")[-1])\n",
    "    axes[idx].grid(True)\n",
    "\n",
    "# Hide any empty subplots\n",
    "for i in range(idx + 1, len(axes)):\n",
    "    fig.delaxes(axes[i])\n",
    "\n",
    "plt.tight_layout()\n",
    "plt.show()"
   ]
  }
 ],
 "metadata": {
  "kernelspec": {
   "display_name": ".venv",
   "language": "python",
   "name": "python3"
  },
  "language_info": {
   "codemirror_mode": {
    "name": "ipython",
    "version": 3
   },
   "file_extension": ".py",
   "mimetype": "text/x-python",
   "name": "python",
   "nbconvert_exporter": "python",
   "pygments_lexer": "ipython3",
   "version": "3.12.8"
  }
 },
 "nbformat": 4,
 "nbformat_minor": 2
}
