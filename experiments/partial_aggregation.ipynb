{
 "cells": [
  {
   "cell_type": "code",
   "execution_count": null,
   "metadata": {},
   "outputs": [],
   "source": [
    "import os\n",
    "import pickle as pkl\n",
    "import numpy as np\n",
    "from matplotlib import pyplot as plt\n",
    "import seaborn as sns\n",
    "from visualisation import *\n",
    "from experiment_utils import *\n",
    "\n",
    "sns.set_theme(\"paper\")\n",
    "\n",
    "fig, axs = plt.subplots(1,2)\n",
    "fig.set_size_inches(12,3)\n",
    "\n",
    "#colors = sns.color_palette(\"husl\", 7)\n",
    "colors = sns.color_palette()\n",
    "\n",
    "baseline_rewards = []\n",
    "path = \"/home/markhaoxiang/Projects/fl/florl/experiments\"\n",
    "i = 0\n",
    "for fn in os.listdir(\"td3_results\"):\n",
    "    file_path = os.path.join(path, \"td3_results\", fn)\n",
    "    results = pkl.load(open(file_path, \"rb\"))\n",
    "    rewards = [x.metrics_centralized['reward'] for x in results]\n",
    "    rewards = np.array([[y[1] for y in x] for x in rewards])\n",
    "    if \"baseline\" in fn:\n",
    "        if fn != \"actor_only_results_baseline.pickle\":\n",
    "            # Randomly chosen baseline test\n",
    "            continue\n",
    "    rewards_mean = rewards.mean(axis=0)\n",
    "    j = np.argmax(rewards_mean)\n",
    "    rewards_std = rewards.std(axis=0)\n",
    "    print(f\"{fn}: {j} {round(rewards_mean[j],3)} {round(rewards_std[j] * 1.96,3)}\")\n",
    "    color = colors[i]\n",
    "    x = range(151)\n",
    "    # Variance\n",
    "    ax = axs[0]\n",
    "    ax.plot(x, rewards_std, color=color, label=fn[:-7])\n",
    "\n",
    "    # Reward\n",
    "    ax = axs[1]\n",
    "    ax.plot(x, rewards_mean, color=color)\n",
    "\n",
    "    i+=1\n",
    "\n",
    "fig.suptitle(\"Aggregating Subset of Knowledge - TD3Avg, Pendulum\")\n",
    "axs[0].set_title(\"Standard Deviation\")\n",
    "axs[1].set_title(\"Mean\")\n",
    "axs[0].set_ylabel(\"Reward\")\n",
    "axs[1].set_ylabel(\"Reward\")\n",
    "axs[0].set_xlabel(\"Round\")\n",
    "axs[1].set_xlabel(\"Round\")\n",
    "fig.subplots_adjust(top=0.8, bottom=0.15) \n",
    "fig.legend(loc='upper center', bbox_to_anchor=(0.5, 1.15), ncol=3)\n",
    "\n",
    "fig.savefig(\"plot.pdf\", format=\"pdf\", bbox_inches=\"tight\")"
   ]
  },
  {
   "cell_type": "code",
   "execution_count": null,
   "metadata": {},
   "outputs": [],
   "source": [
    "baseline_rewards_cat = np.concatenate(baseline_rewards, axis=0)\n",
    "rewards_mean = baseline_rewards_cat.mean(axis=0)\n",
    "j = np.argmax(rewards_mean)\n",
    "rewards_std = baseline_rewards_cat.std(axis=0)\n",
    "print(f\"TD3Avg: {j} {round(rewards_mean[j],3)} {round(rewards_std[j] * 1.96,3)}\")"
   ]
  },
  {
   "cell_type": "code",
   "execution_count": null,
   "metadata": {},
   "outputs": [],
   "source": [
    "from matplotlib import pyplot as plt\n",
    "plt.plot(rewards_std)"
   ]
  },
  {
   "cell_type": "code",
   "execution_count": null,
   "metadata": {},
   "outputs": [],
   "source": [
    "len(baseline_rewards)"
   ]
  },
  {
   "cell_type": "code",
   "execution_count": null,
   "metadata": {},
   "outputs": [],
   "source": [
    "len(test[0].metrics_centralized[\"reward\"])"
   ]
  }
 ],
 "metadata": {
  "kernelspec": {
   "display_name": "venv",
   "language": "python",
   "name": "python3"
  },
  "language_info": {
   "codemirror_mode": {
    "name": "ipython",
    "version": 3
   },
   "file_extension": ".py",
   "mimetype": "text/x-python",
   "name": "python",
   "nbconvert_exporter": "python",
   "pygments_lexer": "ipython3",
   "version": "3.11.8"
  }
 },
 "nbformat": 4,
 "nbformat_minor": 2
}
