{
 "cells": [
  {
   "cell_type": "code",
   "execution_count": null,
   "metadata": {},
   "outputs": [],
   "source": [
    "import flwr as fl\n",
    "import torch\n",
    "from omegaconf import OmegaConf, DictConfig\n",
    "from matplotlib import pyplot as plt\n",
    "from tqdm import tqdm\n",
    "\n",
    "from common.interface import aggregate_weighted_average\n",
    "from gorila import create_dqn_client\n",
    "\n",
    "\n",
    "DEVICE = torch.device('cuda' if torch.cuda.is_available() else 'cpu')\n",
    "NUM_CLIENTS = 10"
   ]
  },
  {
   "cell_type": "code",
   "execution_count": null,
   "metadata": {},
   "outputs": [],
   "source": [
    "# Define Config\n",
    "config = DictConfig({\n",
    "    \"rl\": {\n",
    "        \"env\": {\n",
    "            \"name\": \"CartPole-v1\"\n",
    "        },\n",
    "        \"algorithm\": {\n",
    "            \"type\": \"ddpg\",\n",
    "            \"gamma\": 0.99,\n",
    "            \"tau\": 0.005,\n",
    "            \"lr\": 0.001,\n",
    "            \"update_frequency\": 1,\n",
    "            \"clip_grad_norm\": 1,\n",
    "            \"critic\": {\n",
    "                \"features\": 64\n",
    "            }\n",
    "        },\n",
    "        \"memory\": {\n",
    "            \"type\": \"experience_replay\",\n",
    "            \"capacity\": 20000\n",
    "        },\n",
    "        \"train\": {\n",
    "            \"initial_collection_size\": 512,\n",
    "            \"minibatch_size\": 32\n",
    "        }\n",
    "    },\n",
    "    \"fl\": {\n",
    "        \"train_config\": {\n",
    "            \"frames\": 100,\n",
    "        },\n",
    "        \"evaluate_config\": {\n",
    "            \"evaluation_repeats\": 1 \n",
    "        }\n",
    "    }\n",
    "})\n",
    "\n",
    "train_config = OmegaConf.to_container(config[\"fl\"][\"train_config\"])\n",
    "evaluate_config = OmegaConf.to_container(config[\"fl\"][\"evaluate_config\"])\n",
    "\n",
    "def _on_fit_config_fn(server_round: int):\n",
    "    return train_config | {\"server_round\": server_round}\n",
    "def _on_evaluate_config_fn(server_round: int):\n",
    "    return evaluate_config | {\"server_round\": server_round}"
   ]
  },
  {
   "cell_type": "markdown",
   "metadata": {},
   "source": [
    "# Baseline"
   ]
  },
  {
   "cell_type": "code",
   "execution_count": null,
   "metadata": {},
   "outputs": [],
   "source": [
    "client = create_dqn_client(0, config)\n",
    "\n",
    "# Manually run through the training loop\n",
    "hist_fit = []\n",
    "evaluation_reward = []\n",
    "for simulated_rounds in tqdm(range(100)):\n",
    "    metrics, _ = client.train(client.algorithm.critic.net, {\"frames\": 100})\n",
    "    hist_fit.append(metrics)\n",
    "    evaluation_reward.append(client.evaluator.evaluate())\n",
    "\n"
   ]
  },
  {
   "cell_type": "code",
   "execution_count": null,
   "metadata": {},
   "outputs": [],
   "source": [
    "fig, axs = plt.subplots(1,2)\n",
    "fig.set_size_inches(10,5)\n",
    "\n",
    "# TODO: Confidence bounds\n",
    "\n",
    "# Loss\n",
    "ax = axs[0]\n",
    "ax.plot([x['loss'] for x in hist_fit])\n",
    "ax.set_title(\"Training Loss\")\n",
    "ax.set_ylabel(\"Average Loss\")\n",
    "ax.set_xlabel(\"Round\")\n",
    "\n",
    "# Evaluate reward\n",
    "ax = axs[1]\n",
    "ax.plot(evaluation_reward)\n",
    "ax.set_title(\"Evaluation Reward\")\n",
    "ax.set_ylabel(\"Average Reward\")\n",
    "ax.set_xlabel(\"Round\")"
   ]
  },
  {
   "cell_type": "markdown",
   "metadata": {},
   "source": [
    "# Federated"
   ]
  },
  {
   "cell_type": "code",
   "execution_count": null,
   "metadata": {},
   "outputs": [],
   "source": [
    "strategy = fl.server.strategy.FedAvg(\n",
    "    on_fit_config_fn = _on_fit_config_fn,\n",
    "    on_evaluate_config_fn= _on_evaluate_config_fn,\n",
    "    fit_metrics_aggregation_fn=aggregate_weighted_average,\n",
    "    evaluate_metrics_aggregation_fn=aggregate_weighted_average, \n",
    "    accept_failures=False\n",
    ")\n",
    "\n",
    "hist = fl.simulation.start_simulation(\n",
    "    client_fn=lambda cid: create_dqn_client(int(cid), config=config).to_client(),\n",
    "    client_resources={'num_cpus': 1},\n",
    "    config=fl.server.ServerConfig(num_rounds=100),\n",
    "    num_clients = 2,\n",
    "    strategy = strategy\n",
    ")"
   ]
  },
  {
   "cell_type": "code",
   "execution_count": null,
   "metadata": {},
   "outputs": [],
   "source": [
    "fig, axs = plt.subplots(1,2)\n",
    "fig.set_size_inches(10,5)\n",
    "\n",
    "# TODO: Confidence bounds\n",
    "\n",
    "# Loss\n",
    "ax = axs[0]\n",
    "ax.plot([x[1]['avg'] for x in hist.metrics_distributed_fit['loss']])\n",
    "ax.set_title(\"Training Loss\")\n",
    "ax.set_ylabel(\"Average Loss\")\n",
    "ax.set_xlabel(\"Round\")\n",
    "\n",
    "# Evaluate reward\n",
    "ax = axs[1]\n",
    "ax.plot([x[1]['avg'] for x in hist.metrics_distributed['reward']])\n",
    "ax.set_title(\"Evaluation Reward\")\n",
    "ax.set_ylabel(\"Average Reward\")\n",
    "ax.set_xlabel(\"Round\")"
   ]
  },
  {
   "cell_type": "code",
   "execution_count": null,
   "metadata": {},
   "outputs": [],
   "source": []
  }
 ],
 "metadata": {
  "kernelspec": {
   "display_name": "venv",
   "language": "python",
   "name": "python3"
  },
  "language_info": {
   "codemirror_mode": {
    "name": "ipython",
    "version": 3
   },
   "file_extension": ".py",
   "mimetype": "text/x-python",
   "name": "python",
   "nbconvert_exporter": "python",
   "pygments_lexer": "ipython3",
   "version": "3.11.6"
  }
 },
 "nbformat": 4,
 "nbformat_minor": 2
}
